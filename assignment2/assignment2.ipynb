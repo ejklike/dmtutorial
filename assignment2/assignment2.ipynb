{
 "cells": [
  {
   "cell_type": "markdown",
   "id": "7ae592c2",
   "metadata": {},
   "source": [
    "# Assignment 2. Diabetes Diagnosis\n",
    "\n",
    "The assignment is to develop a classifier diagnostically predict whether or not a patient has diabetes, based on certain diagnostic measurements included in the dataset.\n",
    "\n",
    "The datasets consists of several medical predictor variables and one target variable, `Outcome`. Predictor variables includes the number of pregnancies the patient has had, their BMI, insulin level, age, and so on.\n",
    "\n",
    "Can you build a machine learning model to accurately predict whether or not the patients in the dataset have diabetes or not?\n",
    "\n",
    "First, let's load the data. The file named `diabetes_train.csv` is located in the same folder."
   ]
  },
  {
   "cell_type": "code",
   "execution_count": null,
   "id": "3cde9cb0",
   "metadata": {},
   "outputs": [],
   "source": [
    "import pandas as pd\n",
    "\n",
    "df = pd.read_csv('diabetes_train.csv')\n",
    "df"
   ]
  },
  {
   "cell_type": "markdown",
   "id": "a8c3f74d",
   "metadata": {},
   "source": [
    "Define `X` and `y`. Here, `X` and `y` refers to the input and output of our classification models."
   ]
  },
  {
   "cell_type": "code",
   "execution_count": null,
   "id": "cbd91e3d",
   "metadata": {},
   "outputs": [],
   "source": [
    "X = df.iloc[:, :-1] # or, df[['Pregnancies', 'Glucose', 'BloodPressure', 'SkinThickness', 'Insulin', 'BMI', 'DiabetesPedigreeFunction', 'Age']]\n",
    "y = df.iloc[:, -1]  # or, df['Outcome']"
   ]
  },
  {
   "cell_type": "markdown",
   "id": "c6d50d59",
   "metadata": {},
   "source": [
    "## Problem 1. Check the ratio of positive samples\n",
    "\n",
    "Check the ratio of positive samples? (here, positive means the target variable `Outcome==1`)\n",
    "\n",
    "- Hint: Check the number of all samples ans positive samples."
   ]
  },
  {
   "cell_type": "code",
   "execution_count": null,
   "id": "48bae64f",
   "metadata": {},
   "outputs": [],
   "source": [
    "# your code here\n",
    "# ..."
   ]
  },
  {
   "cell_type": "markdown",
   "id": "92f27d4b",
   "metadata": {},
   "source": [
    "## Problem 2. Train Classifiers"
   ]
  },
  {
   "cell_type": "markdown",
   "id": "4dc1e731",
   "metadata": {},
   "source": [
    "First, split the data into training and validation data. This is necessary to avoid overfitting. When spliting data, apply `stratify` option (why?)."
   ]
  },
  {
   "cell_type": "code",
   "execution_count": null,
   "id": "fdde3072",
   "metadata": {},
   "outputs": [],
   "source": [
    "from sklearn.model_selection import train_test_split\n",
    "\n",
    "X_trn, X_val, y_trn, y_val = train_test_split(X, y, test_size=0.3, stratify=y, random_state=0)"
   ]
  },
  {
   "cell_type": "markdown",
   "id": "c56595a6",
   "metadata": {},
   "source": [
    "Apply feature normalization so that all features are considered equal."
   ]
  },
  {
   "cell_type": "code",
   "execution_count": null,
   "id": "f63b9e23",
   "metadata": {},
   "outputs": [],
   "source": [
    "from sklearn.preprocessing import StandardScaler\n",
    "\n",
    "scaler = StandardScaler()\n",
    "scaler.fit(X_trn)\n",
    "X_trn_norm = scaler.transform(X_trn)\n",
    "X_val_norm = scaler.transform(X_val)"
   ]
  },
  {
   "cell_type": "markdown",
   "id": "d99a9d36",
   "metadata": {},
   "source": [
    "Train decision tree, random forest, and logistic regression using the normalized training data. And check the training and validation performances of the model (e.g., accuracy, fscore, ...)."
   ]
  },
  {
   "cell_type": "code",
   "execution_count": null,
   "id": "499d4855",
   "metadata": {},
   "outputs": [],
   "source": [
    "# your code here\n",
    "# ..."
   ]
  },
  {
   "cell_type": "markdown",
   "id": "64f295b6",
   "metadata": {},
   "source": [
    "## Problem 3. Feature importance\n",
    "\n",
    "Remember that logistic regression, decision tree, and random forest provide information about which feature is important to predict the outcome.\n",
    "\n",
    "In our problem of diabetes diagnosis, which feature is important? explore the model and describe your opinion."
   ]
  },
  {
   "cell_type": "code",
   "execution_count": null,
   "id": "c7738e23",
   "metadata": {},
   "outputs": [],
   "source": [
    "# your code here\n",
    "# ..."
   ]
  },
  {
   "cell_type": "markdown",
   "id": "d9f36a9a",
   "metadata": {},
   "source": [
    "## Problem 4. Check model performance on new data (test performance)\n",
    "\n",
    "Today, 70 new patients arrived in our hospital, so you want to check your model performance on new samples.\n",
    "The labels of new instances were obtained by diagnosis of experienced doctors.\n",
    "\n",
    "The test data named `diabetes_test.csv` is located in the same forder."
   ]
  },
  {
   "cell_type": "code",
   "execution_count": null,
   "id": "581c8e18",
   "metadata": {},
   "outputs": [],
   "source": [
    "df_test = pd.read_csv('diabetes_test.csv')\n",
    "df_test"
   ]
  },
  {
   "cell_type": "markdown",
   "id": "ee3e242c",
   "metadata": {},
   "source": [
    "Define `X` and `y` of test data."
   ]
  },
  {
   "cell_type": "code",
   "execution_count": null,
   "id": "9097ae8d",
   "metadata": {},
   "outputs": [],
   "source": [
    "X_test = df_test.iloc[:, :-1]\n",
    "y_test = df_test.iloc[:, -1]"
   ]
  },
  {
   "cell_type": "markdown",
   "id": "8f7fdd1a",
   "metadata": {},
   "source": [
    "Test your classifiers on the test data and draw a plot containing ROC curves and AUC scores of the models obtained in the Problem 2.\n",
    "* (warning) Don't forget normalization using `scaler` before inputting your data into the model. Or, your results may be not good...\n",
    "* Use `plt.savefig('roc.png')` to save the plot to the file named `roc.png`."
   ]
  },
  {
   "cell_type": "code",
   "execution_count": null,
   "id": "03711757",
   "metadata": {},
   "outputs": [],
   "source": [
    "# your code here\n",
    "# ..."
   ]
  }
 ],
 "metadata": {
  "kernelspec": {
   "display_name": "py39_ipykernel",
   "language": "python",
   "name": "py39"
  },
  "language_info": {
   "codemirror_mode": {
    "name": "ipython",
    "version": 3
   },
   "file_extension": ".py",
   "mimetype": "text/x-python",
   "name": "python",
   "nbconvert_exporter": "python",
   "pygments_lexer": "ipython3",
   "version": "3.9.12"
  }
 },
 "nbformat": 4,
 "nbformat_minor": 5
}
