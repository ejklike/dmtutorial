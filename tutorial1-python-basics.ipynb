{
 "cells": [
  {
   "cell_type": "markdown",
   "metadata": {},
   "source": [
    "# Module 1: Introduction to Python\n",
    "\n",
    "Python is a high-level programming language with extensive libraries available to perform various data analysis tasks. \n",
    "\n",
    "The following tutorial contains examples of using various data types, functions, and library modules available in the standard Python library. Read the step-by-step instructions below carefully. To execute the code, click on each cell below and press the `SHIFT-ENTER` keys simultaneously.\n",
    "\n",
    "<!-- \n",
    "This tutorial consists of the following:\n",
    "1. Assignment\n",
    "2. Print\n",
    "3. Comment\n",
    "...\n",
    " -->"
   ]
  },
  {
   "cell_type": "markdown",
   "metadata": {},
   "source": [
    "In this tutorial, we will overview the basics in Python.\n",
    "1. Data Types\n",
    "2. Operations\n",
    "3. Control Flows\n",
    "4. Function\n",
    "5. File I/O"
   ]
  },
  {
   "cell_type": "markdown",
   "metadata": {},
   "source": [
    "## A Code Sample\n",
    "Readability: enough to understand the Code!"
   ]
  },
  {
   "cell_type": "code",
   "execution_count": 1,
   "metadata": {},
   "outputs": [
    {
     "name": "stdout",
     "output_type": "stream",
     "text": [
      "x = 12\n",
      "Hello, Eunji Kim!\n"
     ]
    }
   ],
   "source": [
    "name = 'Eunji Kim'     # Your name\n",
    "x = 34 - 23            # A comment.\n",
    "y = \"Hello\"            # Another one.\n",
    "z, w = 3.45, -1        # Assign two variables at once\n",
    "if z == 1.23 or y == \"Hello\":\n",
    "    x = x + 1\n",
    "    y = y + \", \" + name + '!'   # String concat.\n",
    "print('x = {}'.format(x))\n",
    "print(y)"
   ]
  },
  {
   "cell_type": "markdown",
   "metadata": {},
   "source": [
    "In the example above, we can find some characteristics of Python syntax.\n",
    "\n",
    "- Indentation matters to code meaning\n",
    "    - Block structure indicated by indentation\n",
    "- `#` for comments\n",
    "    - Start comments with `#`, rest of line is ignored.\n",
    "- First assignment to a variable creates it\n",
    "    - Variable types don’t need to be declared.\n",
    "    - Python figures out the variable types on its own. \n",
    "- Assignment is `=` and comparison is `==`\n",
    "    - Multiple variables can be assigned at once\n",
    "- For numeric operations `+` `-` `*` `/` `%` are as expected\n",
    "    - Special use of `+` for string concatenation\n",
    "- Logical operators are words (`and`, `or`, `not`) not symbols\n",
    "- The basic printing command is `print`\n",
    "     - `{}` for formatting"
   ]
  },
  {
   "cell_type": "markdown",
   "metadata": {},
   "source": [
    "---"
   ]
  },
  {
   "cell_type": "markdown",
   "metadata": {},
   "source": [
    "## 1.1 Elementary Data Types\n",
    "\n",
    "Every value in Python has a datatype. \n",
    "\n",
    "There are various data types in Python. Some of the important types are listed below.\n",
    "\n",
    "| &nbsp;  |  Data Type | Class | Example | Mutable | Iterable |\n",
    "|:----- -:|:-------|:----------:|:------------|:-------:|:---:|\n",
    "|Atomic   | Integer | `int`    | x = 4       | &nbsp;  | &nbsp;  |\n",
    "| &nbsp;  | Float | `float`    | x = 3.142   | &nbsp;  | &nbsp;  |\n",
    "| &nbsp;  | Boolean | `bool`   | x = True    | &nbsp;  | &nbsp;  |\n",
    "| Sequence    | String | `str`     | x = \"this\" or x = 'this' | &nbsp; | O |\n",
    "| &nbsp;  | List | `list`  | x = [1, 3.3, 'python'] | O | O |\n",
    "| &nbsp;  | Tuple | `tuple`    | x = (6, 'program', False) | &nbsp;  | O |\n",
    "| Collection  | Set | `set`        | x = {7,1,3,6,9} | O | O |\n",
    "| &nbsp;  | Dictionary | `dict` | x = {'a': 1, 'b': 2, 'c': 3} | O | O |\n",
    "\n",
    "> #### Mutable?\n",
    "> Mutable types have methods for in-place modification, but immutable types do not.\n",
    "> - list (`list.append()`)\n",
    "> - set (`set.pop()`)\n",
    "> - dictionary (`dict.pop()`)"
   ]
  },
  {
   "cell_type": "code",
   "execution_count": 2,
   "metadata": {},
   "outputs": [
    {
     "name": "stdout",
     "output_type": "stream",
     "text": [
      "6 is of type <class 'int'>\n",
      "3.0 is of type <class 'float'>\n",
      "True is of type <class 'bool'>\n"
     ]
    }
   ],
   "source": [
    "\"\"\"Atomic types\"\"\"\n",
    "a = 6    # integer\n",
    "print(a, \"is of type\", type(a))\n",
    "a = 3.0  # float\n",
    "print(a, \"is of type\", type(a))\n",
    "a = True  # boolean, True or False\n",
    "print(a, \"is of type\", type(a))"
   ]
  },
  {
   "cell_type": "code",
   "execution_count": 3,
   "metadata": {},
   "outputs": [
    {
     "name": "stdout",
     "output_type": "stream",
     "text": [
      "this is coffee is of type <class 'str'>\n",
      "[6, 99, 42, 'Apple'] is of type <class 'list'>\n",
      "(6, 'program', False) is of type <class 'tuple'>\n"
     ]
    }
   ],
   "source": [
    "\"\"\"Sequence types\"\"\"\n",
    "mystr = \"this is coffee\" # string\n",
    "print(mystr, \"is of type\", type(mystr))\n",
    "mylist = [6, 99, 42, 'Apple'] # list\n",
    "print(mylist, \"is of type\", type(mylist))\n",
    "mytuple = (6, 'program', False) # tuple\n",
    "print(mytuple, \"is of type\", type(mytuple))"
   ]
  },
  {
   "cell_type": "code",
   "execution_count": 4,
   "metadata": {},
   "outputs": [
    {
     "name": "stdout",
     "output_type": "stream",
     "text": [
      "{1, 3, 6, 7, 9} is of type <class 'set'>\n",
      "{'a': 1, 'b': 2, 'c': 3} is of type <class 'dict'>\n"
     ]
    }
   ],
   "source": [
    "\"\"\"Collection types\"\"\"\n",
    "myset = {7, 1, 3, 6, 9} # set\n",
    "print(myset, \"is of type\", type(myset))\n",
    "mydict = {'a': 1, 'b': 2, 'c': 3} # dictionary\n",
    "print(mydict, \"is of type\", type(mydict))"
   ]
  },
  {
   "cell_type": "markdown",
   "metadata": {},
   "source": [
    "### List and Tuple\n",
    "The most popular data type that holds multiple pieces of data in sequence. \n",
    "- list and tuple enclosed in brackets `[]` and parenthesis `()`\n",
    "- lists are mutable, while tuple is immutable\n",
    "    - This means tuples cannot be changed while lists can be modified.\n",
    "\n",
    "Indexing of list and tuple\n",
    "- Index starts with `0`. \n",
    "- Items can be accessed by indexing with brackets `[]`.\n",
    "\n",
    "![](./figs/prime.png)"
   ]
  },
  {
   "cell_type": "code",
   "execution_count": 5,
   "metadata": {},
   "outputs": [
    {
     "name": "stdout",
     "output_type": "stream",
     "text": [
      "[2, 3, 5, 7, 11, 13, 17, 19, 23, 29, 31]\n",
      "7\n",
      "23\n",
      "[19, 23]\n",
      "[3, 5, 7, 11, 13, 17, 19]\n",
      "[2, 3, 5, 7, 11]\n"
     ]
    }
   ],
   "source": [
    "# create a list of primes\n",
    "primes_list = [2, 3, 5, 7, 11, 13, 17, 19, 23, 29, 31]\n",
    "print(primes_list)\n",
    "# you can access items in list\n",
    "print(primes_list[3])\n",
    "print(primes_list[-3]) # reverse indexing\n",
    "print(primes_list[7:9])  # slicing\n",
    "print(primes_list[1:-3]) # slicing\n",
    "print(primes_list[:5])   # slicing"
   ]
  },
  {
   "cell_type": "code",
   "execution_count": 6,
   "metadata": {},
   "outputs": [
    {
     "name": "stdout",
     "output_type": "stream",
     "text": [
      "(2, 3, 5, 7, 11, 13, 17, 19, 23, 29, 31)\n",
      "(2, 3, 5, 7, 11, 13, 17, 19, 23, 29, 31)\n",
      "7\n",
      "23\n",
      "(19, 23)\n",
      "(3, 5, 7, 11, 13, 17, 19)\n",
      "(2, 3, 5, 7, 11)\n"
     ]
    }
   ],
   "source": [
    "# create a tuple of primes\n",
    "primes_tuple_manually = (2, 3, 5, 7, 11, 13, 17, 19, 23, 29, 31)\n",
    "print(primes_tuple_manually)\n",
    "# or, you can make it using `tuple` method\n",
    "primes_tuple = tuple(primes_list)\n",
    "print(primes_tuple)\n",
    "\n",
    "# you can access items in tuple in the same way\n",
    "print(primes_tuple[3])\n",
    "print(primes_tuple[-3]) # reverse indexing\n",
    "print(primes_tuple[7:9])  # slicing\n",
    "print(primes_tuple[1:-3]) # slicing\n",
    "print(primes_tuple[:5])   # slicing"
   ]
  },
  {
   "cell_type": "code",
   "execution_count": 7,
   "metadata": {},
   "outputs": [
    {
     "name": "stdout",
     "output_type": "stream",
     "text": [
      "[2, 3, 5, 7, 11, 13, 17, 19, 23, 29, 31, 36]\n",
      "[2, 3, 5, 7, 11, 13, 17, 19, 23, 29, 31, 36, 41, 43]\n",
      "[2, 3, 5, 7, 11, 13, 17, 19, 23, 29, 31, 36, 41, 43, 47, 51, 53]\n"
     ]
    }
   ],
   "source": [
    "# add new elements to list\n",
    "primes_list.append(36) # add single item\n",
    "print(primes_list)\n",
    "\n",
    "primes_list.extend([41, 43]) # add multiple item\n",
    "print(primes_list)\n",
    "\n",
    "primes_list = primes_list + [47, 51, 53] # add multiple item\n",
    "# primes_list += [47, 51, 53] # the identical expression\n",
    "print(primes_list)"
   ]
  },
  {
   "cell_type": "code",
   "execution_count": 8,
   "metadata": {},
   "outputs": [
    {
     "name": "stdout",
     "output_type": "stream",
     "text": [
      "(2, 3, 5, 7, 11, 13, 17, 19, 23, 29, 31, 37, 41, 43)\n"
     ]
    }
   ],
   "source": [
    "# add new elements to tuple\n",
    "primes_tuple = primes_tuple + (37, 41, 43)\n",
    "# primes_tuple += (37, 41, 43) # the identical expression\n",
    "print(primes_tuple)"
   ]
  },
  {
   "cell_type": "markdown",
   "metadata": {},
   "source": [
    "> Note: tuples have no methods like `append` and `extend`"
   ]
  },
  {
   "cell_type": "code",
   "execution_count": 9,
   "metadata": {},
   "outputs": [
    {
     "name": "stdout",
     "output_type": "stream",
     "text": [
      "[2, 3, 5, 7, 11, 13, 17, 19, 23, 29, 31, 37, 41, 43, 47, 51, 53]\n"
     ]
    },
    {
     "ename": "TypeError",
     "evalue": "'tuple' object does not support item assignment",
     "output_type": "error",
     "traceback": [
      "\u001b[0;31m---------------------------------------------------------------------------\u001b[0m",
      "\u001b[0;31mTypeError\u001b[0m                                 Traceback (most recent call last)",
      "Input \u001b[0;32mIn [9]\u001b[0m, in \u001b[0;36m<cell line: 6>\u001b[0;34m()\u001b[0m\n\u001b[1;32m      3\u001b[0m \u001b[38;5;28mprint\u001b[39m(primes_list)\n\u001b[1;32m      5\u001b[0m \u001b[38;5;66;03m# tuples are immutable\u001b[39;00m\n\u001b[0;32m----> 6\u001b[0m primes_tuple[\u001b[38;5;241m-\u001b[39m\u001b[38;5;241m3\u001b[39m] \u001b[38;5;241m=\u001b[39m \u001b[38;5;241m37\u001b[39m\n\u001b[1;32m      7\u001b[0m \u001b[38;5;28mprint\u001b[39m(primes_list)\n",
      "\u001b[0;31mTypeError\u001b[0m: 'tuple' object does not support item assignment"
     ]
    }
   ],
   "source": [
    "# lists are mutable\n",
    "primes_list[-6] = 37   # change the last element\n",
    "print(primes_list)\n",
    "\n",
    "# tuples are immutable\n",
    "primes_tuple[-3] = 37\n",
    "print(primes_list)"
   ]
  },
  {
   "cell_type": "code",
   "execution_count": 10,
   "metadata": {},
   "outputs": [
    {
     "ename": "AttributeError",
     "evalue": "'tuple' object has no attribute 'append'",
     "output_type": "error",
     "traceback": [
      "\u001b[0;31m---------------------------------------------------------------------------\u001b[0m",
      "\u001b[0;31mAttributeError\u001b[0m                            Traceback (most recent call last)",
      "Input \u001b[0;32mIn [10]\u001b[0m, in \u001b[0;36m<cell line: 2>\u001b[0;34m()\u001b[0m\n\u001b[1;32m      1\u001b[0m \u001b[38;5;66;03m# tuples are immutable\u001b[39;00m\n\u001b[0;32m----> 2\u001b[0m \u001b[43mprimes_tuple\u001b[49m\u001b[38;5;241;43m.\u001b[39;49m\u001b[43mappend\u001b[49m(\u001b[38;5;241m37\u001b[39m, )\n",
      "\u001b[0;31mAttributeError\u001b[0m: 'tuple' object has no attribute 'append'"
     ]
    }
   ],
   "source": [
    "# tuples are immutable\n",
    "primes_tuple.append(37, )"
   ]
  },
  {
   "cell_type": "markdown",
   "metadata": {},
   "source": [
    "### String\n",
    "\n",
    "![](./figs/sample.png)\n",
    "- A sequence of characters\n",
    "- Just like a list and tuple, the slicing operator **`[ ]`** can be used with strings. \n",
    "- Strings, however, are **immutable** (characters cannot be modified)."
   ]
  },
  {
   "cell_type": "code",
   "execution_count": 12,
   "metadata": {},
   "outputs": [
    {
     "name": "stdout",
     "output_type": "stream",
     "text": [
      "Apple\n",
      "Apple\n",
      "Apple\n",
      "Apple\n"
     ]
    },
    {
     "ename": "NameError",
     "evalue": "name 'Apple' is not defined",
     "output_type": "error",
     "traceback": [
      "\u001b[0;31m---------------------------------------------------------------------------\u001b[0m",
      "\u001b[0;31mNameError\u001b[0m                                 Traceback (most recent call last)",
      "Input \u001b[0;32mIn [12]\u001b[0m, in \u001b[0;36m<cell line: 9>\u001b[0;34m()\u001b[0m\n\u001b[1;32m      7\u001b[0m s \u001b[38;5;241m=\u001b[39m \u001b[38;5;124m\"\u001b[39m\u001b[38;5;124mApple\u001b[39m\u001b[38;5;124m\"\u001b[39m\n\u001b[1;32m      8\u001b[0m \u001b[38;5;28mprint\u001b[39m(s)\n\u001b[0;32m----> 9\u001b[0m s \u001b[38;5;241m=\u001b[39m \u001b[43mApple\u001b[49m   \u001b[38;5;66;03m# cannot write string with out quotes ('', \" \", \"\"\" \"\"\", ''' ''')\u001b[39;00m\n\u001b[1;32m     10\u001b[0m \u001b[38;5;28mprint\u001b[39m(s)\n",
      "\u001b[0;31mNameError\u001b[0m: name 'Apple' is not defined"
     ]
    }
   ],
   "source": [
    "s = '''Apple'''\n",
    "print(s)\n",
    "s = \"\"\"Apple\"\"\"\n",
    "print(s)\n",
    "s = 'Apple'\n",
    "print(s)\n",
    "s = \"Apple\"\n",
    "print(s)\n",
    "s = Apple   # cannot write string with out quotes ('', \" \", \"\"\" \"\"\", ''' ''')\n",
    "print(s)"
   ]
  },
  {
   "cell_type": "code",
   "execution_count": 13,
   "metadata": {},
   "outputs": [
    {
     "name": "stdout",
     "output_type": "stream",
     "text": [
      "This is a string\n",
      "\n",
      "A multiline\n",
      "string\n"
     ]
    }
   ],
   "source": [
    "s = \"This is a string\"  # s is my variable\n",
    "print(s)\n",
    "print() # empty line\n",
    "s = '''A multiline\n",
    "string'''\n",
    "print(s)"
   ]
  },
  {
   "cell_type": "code",
   "execution_count": 14,
   "metadata": {},
   "outputs": [
    {
     "name": "stdout",
     "output_type": "stream",
     "text": [
      "a\tb\n",
      "a\n",
      "b\n",
      "a\\b\n"
     ]
    }
   ],
   "source": [
    "# escape character code using backslash\n",
    "tab = 'a\\tb'\n",
    "print(tab)\n",
    "enter = 'a\\nb'\n",
    "print(enter)\n",
    "backslash = 'a\\\\b'\n",
    "print(backslash)"
   ]
  },
  {
   "cell_type": "code",
   "execution_count": 15,
   "metadata": {},
   "outputs": [
    {
     "name": "stdout",
     "output_type": "stream",
     "text": [
      "Python is fun!\n"
     ]
    }
   ],
   "source": [
    "# Concatenation\n",
    "head = 'Python'\n",
    "tail = ' is fun!'\n",
    "print(head+tail)"
   ]
  },
  {
   "cell_type": "code",
   "execution_count": 16,
   "metadata": {},
   "outputs": [
    {
     "name": "stdout",
     "output_type": "stream",
     "text": [
      "s[4] =  o\n",
      "s[6:11] =  world\n"
     ]
    }
   ],
   "source": [
    "s = 'Hello world!' # total 12 elements. Index start from '0' to '11'\n",
    "\n",
    "print(\"s[4] = \", s[4]) # s[4] = 'o'\n",
    "print(\"s[6:11] = \", s[6:11]) # # s[6:11] = 'world' # index '6' to '11' means element from 6 to 10"
   ]
  },
  {
   "cell_type": "code",
   "execution_count": 17,
   "metadata": {},
   "outputs": [
    {
     "ename": "TypeError",
     "evalue": "'str' object does not support item assignment",
     "output_type": "error",
     "traceback": [
      "\u001b[0;31m---------------------------------------------------------------------------\u001b[0m",
      "\u001b[0;31mTypeError\u001b[0m                                 Traceback (most recent call last)",
      "Input \u001b[0;32mIn [17]\u001b[0m, in \u001b[0;36m<cell line: 3>\u001b[0;34m()\u001b[0m\n\u001b[1;32m      1\u001b[0m \u001b[38;5;66;03m# Simiar to TUPLE, STRING is immutable\u001b[39;00m\n\u001b[1;32m      2\u001b[0m s \u001b[38;5;241m=\u001b[39m \u001b[38;5;124m\"\u001b[39m\u001b[38;5;124mI\u001b[39m\u001b[38;5;124m'\u001b[39m\u001b[38;5;124mm not mutable\u001b[39m\u001b[38;5;124m\"\u001b[39m\n\u001b[0;32m----> 3\u001b[0m s[\u001b[38;5;241m1\u001b[39m:\u001b[38;5;241m7\u001b[39m] \u001b[38;5;241m=\u001b[39m \u001b[38;5;124m\"\u001b[39m\u001b[38;5;124m am\u001b[39m\u001b[38;5;124m\"\u001b[39m\n",
      "\u001b[0;31mTypeError\u001b[0m: 'str' object does not support item assignment"
     ]
    }
   ],
   "source": [
    "# Simiar to TUPLE, STRING is immutable\n",
    "s = \"I'm not mutable\"\n",
    "s[1:7] = \" am\""
   ]
  },
  {
   "cell_type": "markdown",
   "metadata": {},
   "source": [
    "String formatting"
   ]
  },
  {
   "cell_type": "code",
   "execution_count": 18,
   "metadata": {},
   "outputs": [
    {
     "name": "stdout",
     "output_type": "stream",
     "text": [
      "Red Alert\n",
      "Red Alert\n",
      "Red Alert Alert Red\n",
      "Red Alert\n"
     ]
    }
   ],
   "source": [
    "adj = \"Red\"\n",
    "noun = \"Alert\"\n",
    "\n",
    "cheese = \"%s %s\" % (adj, noun) # This style was deprecated (PEP 3101)\n",
    "print(cheese)\n",
    "cheese = \"{} {}\".format(adj, noun) # Possible since Python 3\n",
    "print(cheese)\n",
    "cheese = \"{0} {1} {1} {0}\".format(adj, noun) # Numbers can also be reused\n",
    "print(cheese)\n",
    "cheese = \"{adj} {noun}\".format(adj=adj, noun=noun) # using keyword arguments\n",
    "print(cheese)"
   ]
  },
  {
   "cell_type": "markdown",
   "metadata": {},
   "source": [
    "### Set\n",
    "Set is an **unordered collection** of **unique** items.\n",
    "- Sets have unique values. They eliminate duplicates.\n",
    "- Since, set are unordered collection, indexing has no meaning. Hence, the slicing operator **`[]`** does not work."
   ]
  },
  {
   "cell_type": "code",
   "execution_count": 19,
   "metadata": {},
   "outputs": [
    {
     "name": "stdout",
     "output_type": "stream",
     "text": [
      "{1, 2, 3}\n"
     ]
    }
   ],
   "source": [
    "a = {1,2,2,3,3,3} # we can see total 6 elements \n",
    "print(a) # "
   ]
  },
  {
   "cell_type": "code",
   "execution_count": 20,
   "metadata": {},
   "outputs": [
    {
     "ename": "TypeError",
     "evalue": "'set' object is not subscriptable",
     "output_type": "error",
     "traceback": [
      "\u001b[0;31m---------------------------------------------------------------------------\u001b[0m",
      "\u001b[0;31mTypeError\u001b[0m                                 Traceback (most recent call last)",
      "Input \u001b[0;32mIn [20]\u001b[0m, in \u001b[0;36m<cell line: 1>\u001b[0;34m()\u001b[0m\n\u001b[0;32m----> 1\u001b[0m \u001b[43ma\u001b[49m\u001b[43m[\u001b[49m\u001b[38;5;241;43m1\u001b[39;49m\u001b[43m]\u001b[49m\n",
      "\u001b[0;31mTypeError\u001b[0m: 'set' object is not subscriptable"
     ]
    }
   ],
   "source": [
    "a[1]  # Index [1] means 2nd element"
   ]
  },
  {
   "cell_type": "markdown",
   "metadata": {},
   "source": [
    "We can add new elements using the `add` method."
   ]
  },
  {
   "cell_type": "code",
   "execution_count": 21,
   "metadata": {},
   "outputs": [
    {
     "name": "stdout",
     "output_type": "stream",
     "text": [
      "{1, 2, 3, 4}\n"
     ]
    }
   ],
   "source": [
    "a.add(4)\n",
    "print(a)"
   ]
  },
  {
   "cell_type": "markdown",
   "metadata": {},
   "source": [
    "We can perform set operations like union, intersection on two sets. "
   ]
  },
  {
   "cell_type": "code",
   "execution_count": 22,
   "metadata": {},
   "outputs": [
    {
     "name": "stdout",
     "output_type": "stream",
     "text": [
      "{'microsoft', 'google', 'cherry', 'banana', 'apple'}\n",
      "{'apple'}\n"
     ]
    }
   ],
   "source": [
    "x = {\"apple\", \"banana\", \"cherry\"}\n",
    "y = {\"google\", \"microsoft\", \"apple\"}\n",
    "\n",
    "z = x.union(y)\n",
    "print(z)\n",
    "u = x.intersection(y)\n",
    "print(u)"
   ]
  },
  {
   "cell_type": "markdown",
   "metadata": {},
   "source": [
    "### Dictionary\n",
    "![](./figs/dict.png)\n",
    "\n",
    "**Dictionary** is an **unordered collection** of **key-value pairs**.\n",
    "- Dictionaries are optimized for retrieving data. \n",
    "- We must know the key to retrieve the value.\n",
    "- Duplicate keys cannot exist."
   ]
  },
  {
   "cell_type": "code",
   "execution_count": 23,
   "metadata": {},
   "outputs": [
    {
     "name": "stdout",
     "output_type": "stream",
     "text": [
      "d['a'] =  alpha\n"
     ]
    }
   ],
   "source": [
    "d = {'a': 'alpha', 'o': 'omega', 'g': 'gamma'}  # 'Apple' is element and 1 is the key of element.\n",
    "print(\"d['a'] = \", d['a']); # try to find the element from key."
   ]
  },
  {
   "cell_type": "markdown",
   "metadata": {},
   "source": [
    "> Set elements and dictionary keys cannot be mutable."
   ]
  },
  {
   "cell_type": "code",
   "execution_count": 24,
   "metadata": {},
   "outputs": [
    {
     "name": "stdout",
     "output_type": "stream",
     "text": [
      "{3}\n"
     ]
    },
    {
     "ename": "TypeError",
     "evalue": "unhashable type: 'list'",
     "output_type": "error",
     "traceback": [
      "\u001b[0;31m---------------------------------------------------------------------------\u001b[0m",
      "\u001b[0;31mTypeError\u001b[0m                                 Traceback (most recent call last)",
      "Input \u001b[0;32mIn [24]\u001b[0m, in \u001b[0;36m<cell line: 4>\u001b[0;34m()\u001b[0m\n\u001b[1;32m      2\u001b[0m x\u001b[38;5;241m.\u001b[39madd(\u001b[38;5;241m3\u001b[39m)   \u001b[38;5;66;03m#int is immutable\u001b[39;00m\n\u001b[1;32m      3\u001b[0m \u001b[38;5;28mprint\u001b[39m(x)\n\u001b[0;32m----> 4\u001b[0m \u001b[43mx\u001b[49m\u001b[38;5;241;43m.\u001b[39;49m\u001b[43madd\u001b[49m\u001b[43m(\u001b[49m\u001b[43m[\u001b[49m\u001b[38;5;241;43m3\u001b[39;49m\u001b[43m]\u001b[49m\u001b[43m)\u001b[49m \u001b[38;5;66;03m#list is mutable\u001b[39;00m\n\u001b[1;32m      5\u001b[0m \u001b[38;5;28mprint\u001b[39m(x)\n",
      "\u001b[0;31mTypeError\u001b[0m: unhashable type: 'list'"
     ]
    }
   ],
   "source": [
    "x = set()  #initialization\n",
    "x.add(3)   #int is immutable\n",
    "print(x)\n",
    "x.add([3]) #list is mutable\n",
    "print(x)"
   ]
  },
  {
   "cell_type": "markdown",
   "metadata": {},
   "source": [
    "> Iterable data types can be converted into list\n",
    "> - iterable types: string, list, tuple, set, dictionary\n",
    "\n",
    "> Using `len()`, we can get the length of iterable."
   ]
  },
  {
   "cell_type": "code",
   "execution_count": 25,
   "metadata": {},
   "outputs": [
    {
     "data": {
      "text/plain": [
       "['h', 'e', 'l', 'l', 'o']"
      ]
     },
     "execution_count": 25,
     "metadata": {},
     "output_type": "execute_result"
    }
   ],
   "source": [
    "list(\"hello\")"
   ]
  },
  {
   "cell_type": "code",
   "execution_count": 26,
   "metadata": {},
   "outputs": [
    {
     "data": {
      "text/plain": [
       "[1, 3, 6, 7, 9]"
      ]
     },
     "execution_count": 26,
     "metadata": {},
     "output_type": "execute_result"
    }
   ],
   "source": [
    "list(myset)"
   ]
  },
  {
   "cell_type": "code",
   "execution_count": 27,
   "metadata": {},
   "outputs": [
    {
     "data": {
      "text/plain": [
       "['a', 'b', 'c']"
      ]
     },
     "execution_count": 27,
     "metadata": {},
     "output_type": "execute_result"
    }
   ],
   "source": [
    "list(mydict) # only keys, not values"
   ]
  },
  {
   "cell_type": "code",
   "execution_count": 28,
   "metadata": {},
   "outputs": [
    {
     "data": {
      "text/plain": [
       "16"
      ]
     },
     "execution_count": 28,
     "metadata": {},
     "output_type": "execute_result"
    }
   ],
   "source": [
    "len('this is a string')"
   ]
  },
  {
   "cell_type": "code",
   "execution_count": 29,
   "metadata": {
    "scrolled": true
   },
   "outputs": [
    {
     "data": {
      "text/plain": [
       "3"
      ]
     },
     "execution_count": 29,
     "metadata": {},
     "output_type": "execute_result"
    }
   ],
   "source": [
    "len({1, 2, 3})"
   ]
  },
  {
   "cell_type": "markdown",
   "metadata": {},
   "source": [
    "---"
   ]
  },
  {
   "cell_type": "markdown",
   "metadata": {},
   "source": [
    "## 1.2 Operators\n",
    "\n",
    "Python can be used like a calculator. Simply type in expressions to get them evaluated.\n",
    "\n",
    "**What are operators in python?**\n",
    "\n",
    "Operators are special **symbols** in Python that carry out **arithmetic** or **logical computation**. The value that the operator operates on is called the **operand**.\n",
    "\n",
    "For example:\n",
    "\n",
    "```python\n",
    ">>>6+3\n",
    "9\n",
    "```\n",
    "\n",
    "Here, **`+`** is the operator that performs addition. **`2`** and **`3`** are the operands and **`5`** is the output of the **operation**."
   ]
  },
  {
   "cell_type": "markdown",
   "metadata": {},
   "source": [
    "### 1.2.1 Arithmatic Operators\n",
    "\n",
    "Arithmetic operators are used to perform **mathematical operations** like **addition**, **subtraction**, **multiplication** etc.\n",
    "\n",
    "| Symbol | Task Performed | Meaning | Example | \n",
    "|:------:|:---------------| :------: |:--------:|\n",
    "| **`+`**      | Addition | add two operands or unary plus | **x + y** or **+2** | \n",
    "| **`-`**      | Subtraction | substract right operand from the left or unary minus | **x - y** or **-2** | \n",
    "| **`*`**      | Multiplication | Multiply two operands | **x \\* y** |\n",
    "| **`/`**      | Division | Divide left operand by the right one (always results into float) | **x / y** | \n",
    "| **`//`**     | Integer/Floor division | division that results into whole number adjusted to the left in the number line | **x // y** | \n",
    "| **`%`**      | Modulus (remainder) | remainder of the division of left operand by the right | **x % y** (remainder of **x/y**) | \n",
    "| <b>`**`</b>     | Exponentiation (power) | left operand raised to the power of right | **x \\*\\* y** (**x** to the power **y**) |"
   ]
  },
  {
   "cell_type": "code",
   "execution_count": 30,
   "metadata": {
    "ExecuteTime": {
     "end_time": "2021-10-02T08:25:25.375922Z",
     "start_time": "2021-10-02T08:25:25.248971Z"
    }
   },
   "outputs": [
    {
     "name": "stdout",
     "output_type": "stream",
     "text": [
      "x + y = 19\n",
      "x - y = 13\n",
      "x * y = 48\n",
      "x / y = 5.333333333333333\n",
      "x // y = 5\n",
      "x % y = 1\n",
      "x ** y = 4096\n"
     ]
    }
   ],
   "source": [
    "x = 16\n",
    "y = 3\n",
    "\n",
    "print('x + y =', x+y)\n",
    "print('x - y =', x-y)\n",
    "print('x * y =', x*y)\n",
    "print('x / y =', x/y)\n",
    "print('x // y =', x//y)\n",
    "print('x % y =', x%y)\n",
    "print('x ** y =', x**y)"
   ]
  },
  {
   "cell_type": "markdown",
   "metadata": {},
   "source": [
    "### 1.2.2 Comparison/Relational operators\n",
    "\n",
    "Comparison operators are used to **compare values**. It either returns **True** or **False** according to the **condition**.\n",
    "\n",
    "| Symbol | Task Performed | Meaning | Example | \n",
    "|:----:| :--- |:--- |:---: |\n",
    "| **`>`** | greater than | True if left operand is greater than the right | **x > y** | \n",
    "| **`<`** | less than | True if left operand is less than the right | **x < y** | \n",
    "| **`==`** | equal to | True if both operands are equal | **x == y** | \n",
    "| **`!=`**  | not equal to | True if both operands are not equal | **x != y** | \n",
    "| **`>=`**  | greater than or equal to | True if left operand is greater than or equal to the right | **x >= y** | \n",
    "| **`<=`**  | less than or equal to | True if left operand is less than or equal to the right | **x <= y** | \n",
    "\n",
    "Note the difference between **`==`** (equality test) and **`=`** (assignment)"
   ]
  },
  {
   "cell_type": "code",
   "execution_count": 31,
   "metadata": {},
   "outputs": [
    {
     "name": "stdout",
     "output_type": "stream",
     "text": [
      "x > y True\n",
      "x < y False\n",
      "x == y False\n",
      "x != y True\n",
      "x >= y True\n",
      "x <= y False\n"
     ]
    }
   ],
   "source": [
    "x = 16\n",
    "y = 3\n",
    "\n",
    "print('x > y', x>y)\n",
    "print('x < y', x<y)\n",
    "print('x == y', x==y)\n",
    "print('x != y', x!=y)\n",
    "print('x >= y', x>=y)\n",
    "print('x <= y', x<=y)"
   ]
  },
  {
   "cell_type": "markdown",
   "metadata": {},
   "source": [
    "Comparisons can also be chained in the mathematically obvious way. The following will work as expected in Python (but not in other languages like C/C++):"
   ]
  },
  {
   "cell_type": "code",
   "execution_count": 32,
   "metadata": {
    "ExecuteTime": {
     "end_time": "2021-10-02T08:25:39.740660Z",
     "start_time": "2021-10-02T08:25:39.722109Z"
    }
   },
   "outputs": [
    {
     "data": {
      "text/plain": [
       "False"
      ]
     },
     "execution_count": 32,
     "metadata": {},
     "output_type": "execute_result"
    }
   ],
   "source": [
    "z = 3\n",
    "0.5 < z <= 1"
   ]
  },
  {
   "cell_type": "markdown",
   "metadata": {},
   "source": [
    "## 1.2.3 Logical/Boolean operators \n",
    "\n",
    "Logical operators are the **`and`**, **`or`**, **`not`** operators.\n",
    "\n",
    "| Symbol | Meaning | Example | \n",
    "|:----:| :---: |:---:|\n",
    "| **`and`** |  True if both the operands are true | **x and y** | \n",
    "| **`or`** |  True if either of the operand is true | **x or y** | \n",
    "| **`not`** |  True if operand are false (complements the operand) | **not x** | \n",
    "\n",
    "\n",
    "#### Example : Logical operators in Python"
   ]
  },
  {
   "cell_type": "code",
   "execution_count": 33,
   "metadata": {
    "ExecuteTime": {
     "end_time": "2021-10-02T08:25:40.815854Z",
     "start_time": "2021-10-02T08:25:40.802187Z"
    },
    "scrolled": false
   },
   "outputs": [
    {
     "name": "stdout",
     "output_type": "stream",
     "text": [
      "x and y is False\n",
      "x or y is True\n",
      "not x is False\n",
      "not not x is True\n"
     ]
    }
   ],
   "source": [
    "x = True  # e.g., (7 > 3)\n",
    "y = False # e.g., (7 < 3)\n",
    "\n",
    "print('x and y is', x and y) # False\n",
    "print('x or y is', x or y) # True\n",
    "print('not x is', not x) # False\n",
    "print('not not x is', not not x) # False"
   ]
  },
  {
   "cell_type": "code",
   "execution_count": 34,
   "metadata": {
    "ExecuteTime": {
     "end_time": "2021-10-02T08:25:41.047300Z",
     "start_time": "2021-10-02T08:25:41.025817Z"
    }
   },
   "outputs": [
    {
     "data": {
      "text/plain": [
       "False"
      ]
     },
     "execution_count": 34,
     "metadata": {},
     "output_type": "execute_result"
    }
   ],
   "source": [
    "True and (not(not False)) or (True and (not True))  # What will be output?\n",
    "\n",
    "# True and (not(True)) or (True and (False))\n",
    "# True and False or (False)\n",
    "# False or False\n",
    "# False"
   ]
  },
  {
   "cell_type": "markdown",
   "metadata": {},
   "source": [
    "### 1.2.4 Assignment operators\n",
    "\n",
    "Assignment operators are used in Python to **assign values** to **variables**.\n",
    "\n",
    "- **`a = 5`** is a simple assignment operator that assigns the value 5 on the right to the variable **`a`** on the left.\n",
    "\n",
    "- There are various compound operators in Python like a **`+= 5`** that adds to the variable and later assigns the same. It is equivalent to **`a = a + 5`**.\n",
    "\n",
    "| Symbol | Example | Equivalent to | \n",
    "|:---:|:---:|:---:|\n",
    "| **`=`** | **x = 5** | **x = 5** | \n",
    "| **`+=`** | **x += 5** | **x = x + 5** | \n",
    "| **`-=`** | **x -= 5** | **x = x - 5** | \n",
    "| **`*=`** | **x \\*= 5** | **x = x \\* 5** | \n",
    "| **`/=`** | **x /= 5** | **x = x / 5** | \n",
    "| **`%=`** | **x %= 5** | **x = x % 5** | \n",
    "| **`//=`** | **x //= 5** | **x = x // 5** | \n",
    "| <b>`**=`</b> | **x \\*\\*= 5** | **x = x \\*\\* 5** | "
   ]
  },
  {
   "cell_type": "markdown",
   "metadata": {},
   "source": [
    "The binary operators can be combined with assignment to modify a variable value. For example:"
   ]
  },
  {
   "cell_type": "code",
   "execution_count": 35,
   "metadata": {
    "ExecuteTime": {
     "end_time": "2021-10-02T08:25:44.848078Z",
     "start_time": "2021-10-02T08:25:44.830504Z"
    }
   },
   "outputs": [
    {
     "name": "stdout",
     "output_type": "stream",
     "text": [
      "x is 3\n",
      "x is 9\n"
     ]
    }
   ],
   "source": [
    "x = 1\n",
    "x += 2 # add 2 to x\n",
    "print(\"x is\", x)\n",
    "x **= 2 # x := x^2\n",
    "print('x is', x)"
   ]
  },
  {
   "cell_type": "markdown",
   "metadata": {},
   "source": [
    "### 1.2.5 Special operators\n",
    "\n",
    "Python language offers some special types of operators like the identity operator or the membership operator. They are described below with examples."
   ]
  },
  {
   "cell_type": "markdown",
   "metadata": {},
   "source": [
    "#### 1.2.5.1. Identity operators\n",
    "\n",
    "**`is`** and **`is not`** are the identity operators in Python. They are used to check if two values (or variables) are located on the same part of the **memory**. Two variables that are equal does not imply that they are **identical**.\n",
    "\n",
    "| Symbol | Meaning | Example | \n",
    "|:---:| :---: |:---:|\n",
    "| **`is`** |  True if the operands are identical (refer to the same object) | **x is True**  | \n",
    "| **`is not`** |  True if the operands are not identical (do not refer to the same object)  | **x is not True** | "
   ]
  },
  {
   "cell_type": "code",
   "execution_count": 36,
   "metadata": {
    "ExecuteTime": {
     "end_time": "2021-10-02T08:25:45.559015Z",
     "start_time": "2021-10-02T08:25:45.542417Z"
    }
   },
   "outputs": [
    {
     "name": "stdout",
     "output_type": "stream",
     "text": [
      "False\n",
      "True\n",
      "False\n"
     ]
    }
   ],
   "source": [
    "x1 = 6\n",
    "y1 = 6\n",
    "x2 = 'Hello'\n",
    "y2 = 'Hello'\n",
    "x3 = [1,2,3] # list\n",
    "y3 = [1,2,3] # list\n",
    "\n",
    "# Output: False\n",
    "print(x1 is not y1)\n",
    "\n",
    "# Output: True\n",
    "print(x2 is y2)\n",
    "\n",
    "# Output: False because two list [] can never be equal\n",
    "print(x3 is y3)"
   ]
  },
  {
   "cell_type": "markdown",
   "metadata": {},
   "source": [
    "**Explanation:**\n",
    "\n",
    "Here, we see that **`x1`** and **`y1`** are integers of same values, so they are equal as well as identical. Same is the case with **`x2`** and **`y2`** (strings).\n",
    "\n",
    "But **`x3`** and **`y3`** are list. They are equal but not identical. It is because interpreter locates them **separately in memory** although they are equal.\n",
    "\n",
    "> check memory address using `id()`."
   ]
  },
  {
   "cell_type": "markdown",
   "metadata": {},
   "source": [
    "### 1.2.5.2. Membership operators\n",
    "\n",
    "**`in`** and **`not in`** are the membership operators in Python. They are used to test whether a value or variable is found in a **sequence** (**string**, **list**, **tuple**, **set** and **dictionary**).\n",
    "\n",
    "In a dictionary we can only test for presence of **key, not the value**.\n",
    "\n",
    "| Symbol | Meaning | Example | \n",
    "|:---:| :---: |:---:|\n",
    "| **`in`** |  True if value/variable is found in sequence | **5 in x**  | \n",
    "| **`not in`** |  True if value/variable is not found in sequence | **5 not in x**  | \n"
   ]
  },
  {
   "cell_type": "code",
   "execution_count": 37,
   "metadata": {
    "ExecuteTime": {
     "end_time": "2021-10-02T08:25:46.265068Z",
     "start_time": "2021-10-02T08:25:46.246518Z"
    }
   },
   "outputs": [
    {
     "name": "stdout",
     "output_type": "stream",
     "text": [
      "True\n",
      "True\n",
      "True\n",
      "False\n"
     ]
    }
   ],
   "source": [
    "x = 'Hello world'\n",
    "y = {1:'a', 2:'b'} # dictionary 1 is key and 'a' is element. So we access element without its key.\n",
    "\n",
    "print('H' in x)  # Do we have 'H' in 'Hello World' ?\n",
    "print('hello' not in x)  # Do we have 'hello' in 'Hello World' ?\n",
    "print(1 in y) # Do we have 1 in keys of y?\n",
    "print('a' in y) # False because we cannot identify 'a' without its key hence it is Flase."
   ]
  },
  {
   "cell_type": "markdown",
   "metadata": {},
   "source": [
    "**Explanation:**\n",
    "\n",
    "Here, **'`H`'** is in **`x`** but **'`hello`'** is not present in **`x`** (remember, Python is case sensitive). Similary, **`1`** is key and **'`a`'** is the value in dictionary y. Hence, **`'a'in y`** returns **`False`**."
   ]
  },
  {
   "cell_type": "markdown",
   "metadata": {},
   "source": [
    "## 1.3 Control Flow Statements\n",
    "\n",
    "Similar to other programming languages, the control flow statements in Python include if, for, and while statements. Examples on how to use these statements are shown below. "
   ]
  },
  {
   "cell_type": "markdown",
   "metadata": {},
   "source": [
    "### 1.3.1 Conditional Statements\n",
    "`if-else`, `if-elif-else`"
   ]
  },
  {
   "cell_type": "code",
   "execution_count": 38,
   "metadata": {},
   "outputs": [
    {
     "name": "stdout",
     "output_type": "stream",
     "text": [
      "x = 10 is even\n",
      "x = 10 is positive\n"
     ]
    }
   ],
   "source": [
    "# using if-else statement\n",
    "# check the properties of a given number\n",
    "\n",
    "x = 10\n",
    "\n",
    "if x % 2 == 0:\n",
    "    print(\"x =\", x, \"is even\")\n",
    "else:\n",
    "    print(\"x =\", x, \"is odd\")\n",
    "\n",
    "if x > 0:\n",
    "    print(\"x =\", x, \"is positive\")\n",
    "elif x < 0:\n",
    "    print(\"x =\", x, \"is negative\")\n",
    "else:\n",
    "    print(\"x =\", x, \"is neither positive nor negative\")"
   ]
  },
  {
   "cell_type": "markdown",
   "metadata": {},
   "source": [
    "### 1.3.2 Loops\n",
    "Loops are a way to repeat the same code multiple times.\n",
    "- `for` do someting over iterable\n",
    "- `while(condition):` do something while the `condition` is truthy"
   ]
  },
  {
   "cell_type": "code",
   "execution_count": 39,
   "metadata": {},
   "outputs": [
    {
     "name": "stdout",
     "output_type": "stream",
     "text": [
      "0\n",
      "2\n",
      "4\n",
      "6\n",
      "8\n"
     ]
    }
   ],
   "source": [
    "# using for loop\n",
    "for i in range(10):\n",
    "    if i % 2 == 0: # even\n",
    "        print(i)"
   ]
  },
  {
   "cell_type": "code",
   "execution_count": 40,
   "metadata": {},
   "outputs": [
    {
     "name": "stdout",
     "output_type": "stream",
     "text": [
      "this ==> that\n",
      "is ==> at\n",
      "a ==> a\n",
      "list ==> latt\n",
      "[4, 2, 1, 4]\n"
     ]
    }
   ],
   "source": [
    "# using for loop with a list\n",
    "mylist = ['this', 'is', 'a', 'list']\n",
    "for word in mylist:\n",
    "    print(word, '==>', word.replace(\"is\", \"at\"))\n",
    "\n",
    "mylist2 = [len(word) for word in mylist]  # list comprehension\n",
    "print(mylist2)"
   ]
  },
  {
   "cell_type": "code",
   "execution_count": 41,
   "metadata": {},
   "outputs": [
    {
     "name": "stdout",
     "output_type": "stream",
     "text": [
      "['Austin', 'Lansing', 'Sacramento']\n"
     ]
    }
   ],
   "source": [
    "# using for loop with list of tuples\n",
    "states = [('MI', 'Michigan', 'Lansing'),\n",
    "          ('CA', 'California', 'Sacramento'),\n",
    "          ('TX', 'Texas', 'Austin')]\n",
    "\n",
    "sorted_capitals = [state[2] for state in states]\n",
    "sorted_capitals.sort()\n",
    "print(sorted_capitals)"
   ]
  },
  {
   "cell_type": "code",
   "execution_count": 42,
   "metadata": {},
   "outputs": [
    {
     "name": "stdout",
     "output_type": "stream",
     "text": [
      "['apples', 'oranges', 'bananas', 'cherries']\n"
     ]
    }
   ],
   "source": [
    "# using for loop with dictionary\n",
    "fruits = {'apples': 3, 'oranges': 4, 'bananas': 2, 'cherries': 10}\n",
    "fruitnames = [k for (k,v) in fruits.items()]\n",
    "print(fruitnames)"
   ]
  },
  {
   "cell_type": "code",
   "execution_count": 43,
   "metadata": {},
   "outputs": [
    {
     "name": "stdout",
     "output_type": "stream",
     "text": [
      "[-10, -9, -8, -7, -6, -5, -4, -3, -2, -1, 0, 1, 2, 3, 4, 5, 6, 7, 8, 9]\n",
      "First non-negative number: 0\n"
     ]
    }
   ],
   "source": [
    "# using while loop\n",
    "mylist = list(range(-10, 10))\n",
    "print(mylist)\n",
    "\n",
    "i = 0\n",
    "while (mylist[i] < 0):\n",
    "    i = i + 1\n",
    "    \n",
    "print(\"First non-negative number:\", mylist[i])"
   ]
  },
  {
   "cell_type": "markdown",
   "metadata": {},
   "source": [
    "## 1.4 User-Defined Functions\n",
    "\n",
    "You can create your own functions in Python, which can be named or unnamed. Unnamed functions are defined using the lambda keyword as shown in the previous example for sorting a list of tuples. "
   ]
  },
  {
   "cell_type": "code",
   "execution_count": 44,
   "metadata": {},
   "outputs": [
    {
     "name": "stdout",
     "output_type": "stream",
     "text": [
      "[2, 3, 5, 7, 11, 13, 17, 19, 23, 29, 31]\n"
     ]
    }
   ],
   "source": [
    "def get_primes(n):\n",
    "    \"\"\"return a list of primes less than or equal to n\"\"\"\n",
    "    from math import sqrt # import sqrt function from math library\n",
    "    primes = [] # Initialization\n",
    "    # for loop to find primes less or equal to `n`\n",
    "    for k in range(2, n+1):\n",
    "        remainder_list = [k%d > 0 for d in primes if d <= sqrt(k)]\n",
    "        if not remainder_list or all(remainder_list):\n",
    "            primes.append(k)\n",
    "    return primes\n",
    "\n",
    "primes = get_primes(31)\n",
    "print(primes)"
   ]
  },
  {
   "cell_type": "code",
   "execution_count": 45,
   "metadata": {},
   "outputs": [
    {
     "name": "stdout",
     "output_type": "stream",
     "text": [
      "x = 20 is even\n",
      "x = 20 is positive\n"
     ]
    }
   ],
   "source": [
    "def get_properties(x):\n",
    "    \"\"\"print the properties of a given number x\"\"\"\n",
    "    if x % 2 == 0:\n",
    "        print(\"x =\", x, \"is even\")\n",
    "    else:\n",
    "        print(\"x =\", x, \"is odd\")\n",
    "\n",
    "    if x > 0:\n",
    "        print(\"x =\", x, \"is positive\")\n",
    "    elif x < 0:\n",
    "        print(\"x =\", x, \"is negative\")\n",
    "    else:\n",
    "        print(\"x =\", x, \"is neither positive nor negative\")\n",
    "        \n",
    "get_properties(20)"
   ]
  },
  {
   "cell_type": "code",
   "execution_count": 46,
   "metadata": {},
   "outputs": [
    {
     "name": "stdout",
     "output_type": "stream",
     "text": [
      "[-11, 12, 23, 45, 71]\n"
     ]
    }
   ],
   "source": [
    "import math\n",
    "\n",
    "def discard(inlist, sorting=False):    # default value for sortFlag is False \n",
    "    \"\"\"discard missing values from a list\"\"\"\n",
    "    outlist = []\n",
    "    for item in inlist:\n",
    "        if not math.isnan(item):\n",
    "            outlist.append(item)\n",
    "            \n",
    "    if sorting:\n",
    "        outlist.sort()\n",
    "    return outlist\n",
    "\n",
    "mylist = [12, math.nan, 23, -11, 45, math.nan, 71]\n",
    "\n",
    "print(discard(mylist, sorting=True))"
   ]
  },
  {
   "cell_type": "markdown",
   "metadata": {},
   "source": [
    "## 1.5 File I/O\n",
    "\n",
    "You can read and write data from a list or other objects to a file."
   ]
  },
  {
   "cell_type": "code",
   "execution_count": 47,
   "metadata": {},
   "outputs": [
    {
     "name": "stdout",
     "output_type": "stream",
     "text": [
      "State= Michigan (MI) Capital: Lansing\n",
      "State= California (CA) Capital: Sacramento\n",
      "State= Texas (TX) Capital: Austin\n",
      "State= Minnesota (MN) Capital: St Paul\n"
     ]
    }
   ],
   "source": [
    "states = [('MI', 'Michigan', 'Lansing'),\n",
    "          ('CA', 'California', 'Sacramento'),\n",
    "          ('TX', 'Texas', 'Austin'), \n",
    "          ('MN', 'Minnesota', 'St Paul')]\n",
    "\n",
    "with open('states.txt', 'w') as f:\n",
    "    f.write('\\n'.join('%s,%s,%s' % state for state in states))\n",
    "    \n",
    "with open('states.txt', 'r') as f:\n",
    "    for line in f:\n",
    "        line = line.strip() # remove `\\n`\n",
    "        fields = line.split(sep=',')    # split each line into its respective fields\n",
    "        print('State= {} ({}) Capital: {}'.format(fields[1], fields[0], fields[2]))"
   ]
  },
  {
   "cell_type": "markdown",
   "metadata": {},
   "source": [
    "### Advice\n",
    "\n",
    "If you run into difficulties while coding, just google it.\n",
    "\n",
    "![](./figs/googling.gif)\n",
    "\n",
    "For debugging,\n",
    "1. Read the error message carefully! You will find hint for debugging.\n",
    "2. Google the error messages. Some of the more tshan 10 million Python users had already encountered and fixed the error.\n",
    "\n"
   ]
  }
 ],
 "metadata": {
  "kernelspec": {
   "display_name": "Python 3 (ipykernel)",
   "language": "python",
   "name": "python3"
  },
  "language_info": {
   "codemirror_mode": {
    "name": "ipython",
    "version": 3
   },
   "file_extension": ".py",
   "mimetype": "text/x-python",
   "name": "python",
   "nbconvert_exporter": "python",
   "pygments_lexer": "ipython3",
   "version": "3.9.7"
  }
 },
 "nbformat": 4,
 "nbformat_minor": 2
}
