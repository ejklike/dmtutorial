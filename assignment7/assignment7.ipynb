{
 "cells": [
  {
   "cell_type": "markdown",
   "id": "76213d8d",
   "metadata": {},
   "source": [
    "# Assignment 7: Movie Review Sentiment Classification\n",
    "\n",
    "**GOAL**: Develop a sentiment classifier that determines the sentiment of documents as positive or negative."
   ]
  },
  {
   "cell_type": "markdown",
   "id": "f7856c01",
   "metadata": {},
   "source": [
    "### 0. Data: Naver Movie review dataset"
   ]
  },
  {
   "cell_type": "code",
   "execution_count": 1,
   "id": "9600fbbd",
   "metadata": {},
   "outputs": [
    {
     "data": {
      "text/html": [
       "<div>\n",
       "<style scoped>\n",
       "    .dataframe tbody tr th:only-of-type {\n",
       "        vertical-align: middle;\n",
       "    }\n",
       "\n",
       "    .dataframe tbody tr th {\n",
       "        vertical-align: top;\n",
       "    }\n",
       "\n",
       "    .dataframe thead th {\n",
       "        text-align: right;\n",
       "    }\n",
       "</style>\n",
       "<table border=\"1\" class=\"dataframe\">\n",
       "  <thead>\n",
       "    <tr style=\"text-align: right;\">\n",
       "      <th></th>\n",
       "      <th>document</th>\n",
       "      <th>label</th>\n",
       "    </tr>\n",
       "  </thead>\n",
       "  <tbody>\n",
       "    <tr>\n",
       "      <th>0</th>\n",
       "      <td>맥클레인과 그랜트는 특수부대를 이끌고 그 교회를 포위하나, 이미 탈출준비를 해 놓은...</td>\n",
       "      <td>1</td>\n",
       "    </tr>\n",
       "    <tr>\n",
       "      <th>1</th>\n",
       "      <td>누구나 예상할수있는 뻔한스토리,,,,,,,</td>\n",
       "      <td>0</td>\n",
       "    </tr>\n",
       "    <tr>\n",
       "      <th>2</th>\n",
       "      <td>세계최고의 스토리텔러들이 모이면 심슨이 탄생한다</td>\n",
       "      <td>1</td>\n",
       "    </tr>\n",
       "    <tr>\n",
       "      <th>3</th>\n",
       "      <td>어제 알았네요. 이 영화. 그래도 아쉽긴하지만 더 좋은 작품을 만드는 힘을 가지길 ...</td>\n",
       "      <td>1</td>\n",
       "    </tr>\n",
       "    <tr>\n",
       "      <th>4</th>\n",
       "      <td>왜이리 어설픔....답답도 하고....</td>\n",
       "      <td>0</td>\n",
       "    </tr>\n",
       "    <tr>\n",
       "      <th>...</th>\n",
       "      <td>...</td>\n",
       "      <td>...</td>\n",
       "    </tr>\n",
       "    <tr>\n",
       "      <th>4995</th>\n",
       "      <td>정말 명작이네요..............물론 보진 않았습니다.</td>\n",
       "      <td>1</td>\n",
       "    </tr>\n",
       "    <tr>\n",
       "      <th>4996</th>\n",
       "      <td>드라큐라 곧 개봉예정이라 복습하러 왔습니다. 당시 컬쳐쇼크 당한 영화. 희대의 명작...</td>\n",
       "      <td>1</td>\n",
       "    </tr>\n",
       "    <tr>\n",
       "      <th>4997</th>\n",
       "      <td>공들인건알겠다. 근데 노잼</td>\n",
       "      <td>0</td>\n",
       "    </tr>\n",
       "    <tr>\n",
       "      <th>4998</th>\n",
       "      <td>4년만에 찾은 공원이 어제 구경간 곳 마냥 무덤덤</td>\n",
       "      <td>0</td>\n",
       "    </tr>\n",
       "    <tr>\n",
       "      <th>4999</th>\n",
       "      <td>일본에서 살아간 재일조선인의 역사! 옥에 티라면 배우들의 한국어 발음 뿐!</td>\n",
       "      <td>1</td>\n",
       "    </tr>\n",
       "  </tbody>\n",
       "</table>\n",
       "<p>5000 rows × 2 columns</p>\n",
       "</div>"
      ],
      "text/plain": [
       "                                               document  label\n",
       "0     맥클레인과 그랜트는 특수부대를 이끌고 그 교회를 포위하나, 이미 탈출준비를 해 놓은...      1\n",
       "1                               누구나 예상할수있는 뻔한스토리,,,,,,,      0\n",
       "2                            세계최고의 스토리텔러들이 모이면 심슨이 탄생한다      1\n",
       "3     어제 알았네요. 이 영화. 그래도 아쉽긴하지만 더 좋은 작품을 만드는 힘을 가지길 ...      1\n",
       "4                                 왜이리 어설픔....답답도 하고....      0\n",
       "...                                                 ...    ...\n",
       "4995                 정말 명작이네요..............물론 보진 않았습니다.      1\n",
       "4996  드라큐라 곧 개봉예정이라 복습하러 왔습니다. 당시 컬쳐쇼크 당한 영화. 희대의 명작...      1\n",
       "4997                                     공들인건알겠다. 근데 노잼      0\n",
       "4998                        4년만에 찾은 공원이 어제 구경간 곳 마냥 무덤덤      0\n",
       "4999          일본에서 살아간 재일조선인의 역사! 옥에 티라면 배우들의 한국어 발음 뿐!      1\n",
       "\n",
       "[5000 rows x 2 columns]"
      ]
     },
     "execution_count": 1,
     "metadata": {},
     "output_type": "execute_result"
    }
   ],
   "source": [
    "import pandas as pd\n",
    "\n",
    "df = pd.read_csv('movie_reviews_5k.csv', sep='\\t')\n",
    "df"
   ]
  },
  {
   "cell_type": "markdown",
   "id": "e002cfdd",
   "metadata": {},
   "source": [
    "Let's check the distribution of classes. It shows no imbalance between positive/negative classes."
   ]
  },
  {
   "cell_type": "code",
   "execution_count": 2,
   "id": "e845b142",
   "metadata": {},
   "outputs": [
    {
     "data": {
      "text/plain": [
       "<AxesSubplot:>"
      ]
     },
     "execution_count": 2,
     "metadata": {},
     "output_type": "execute_result"
    },
    {
     "data": {
      "image/png": "[encoded data removed]",
      "text/plain": [
       "<Figure size 640x480 with 1 Axes>"
      ]
     },
     "metadata": {},
     "output_type": "display_data"
    }
   ],
   "source": [
    "df.label.hist()"
   ]
  },
  {
   "cell_type": "markdown",
   "id": "9ff29765",
   "metadata": {},
   "source": [
    "### Problem 1. Draw a word cloud\n",
    "\n",
    "Draw a word cloud using the `document` column in the dataframe `df`.\n",
    "\n",
    "* Save the word cloud image using `plt.savefig('wordcloud.png')`."
   ]
  },
  {
   "cell_type": "code",
   "execution_count": 3,
   "id": "703655dd",
   "metadata": {},
   "outputs": [],
   "source": [
    "# your code here \n",
    "# ..."
   ]
  },
  {
   "cell_type": "markdown",
   "id": "73e4afdc",
   "metadata": {},
   "source": [
    "### Problem 2. Document Vectorization\n",
    "\n",
    "- Use `TfidfVectorizer` with `ngram_range=(1,2), max_features=1000` options.\n",
    "    - `from sklearn.feature_extraction.text import TfidfVectorizer`\n",
    "- Define and use your custom tokenizer for Korean.\n",
    "    - Use twitter tokenizer (`from konlpy.tag import Okt`)"
   ]
  },
  {
   "cell_type": "code",
   "execution_count": 4,
   "id": "81a15d27",
   "metadata": {},
   "outputs": [],
   "source": [
    "# your code here \n",
    "# ..."
   ]
  },
  {
   "cell_type": "markdown",
   "id": "fb2b5324",
   "metadata": {},
   "source": [
    "### Problem 3. Develop a Sentiment Classifier\n",
    "\n",
    "- Split data into training and test datasets using `train_test_split(X, y, test_size=0.3, stratify=y, random_state=0)`\n",
    "- Use logistic regression with Lasso penalty: `LogisticRegression(penalty='l1', solver='saga', C=10, random_state=0)`\n",
    "- For the training and test data sets, check the accuracy score.\n"
   ]
  },
  {
   "cell_type": "code",
   "execution_count": 5,
   "id": "c9afc6f5",
   "metadata": {},
   "outputs": [],
   "source": [
    "# your code here\n",
    "# ..."
   ]
  },
  {
   "cell_type": "markdown",
   "id": "efcff254",
   "metadata": {},
   "source": [
    "### Problem 4. Keyword extraction\n",
    "\n",
    "- What is the most positive word (having the largest positive coefficient value)?\n",
    "- What is the most negative word (with the largest absolute value among negative coefficients)?"
   ]
  },
  {
   "cell_type": "code",
   "execution_count": 6,
   "id": "f858eea9",
   "metadata": {},
   "outputs": [],
   "source": [
    "# your code here\n",
    "# ..."
   ]
  }
 ],
 "metadata": {
  "kernelspec": {
   "display_name": "py39_ipykernel",
   "language": "python",
   "name": "py39"
  },
  "language_info": {
   "codemirror_mode": {
    "name": "ipython",
    "version": 3
   },
   "file_extension": ".py",
   "mimetype": "text/x-python",
   "name": "python",
   "nbconvert_exporter": "python",
   "pygments_lexer": "ipython3",
   "version": "3.9.13"
  }
 },
 "nbformat": 4,
 "nbformat_minor": 5
}
