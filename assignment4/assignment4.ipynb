{
 "cells": [
  {
   "cell_type": "markdown",
   "id": "7ae592c2",
   "metadata": {},
   "source": [
    "# Assignment 2. Diabetes Diagnosis\n",
    "\n",
    "The assignment is to develop a classifier diagnostically predict whether or not a patient has diabetes, based on certain diagnostic measurements included in the dataset.\n",
    "\n",
    "The datasets consists of several medical predictor variables and one target variable, `Outcome`. Predictor variables includes the number of pregnancies the patient has had, their BMI, insulin level, age, and so on.\n",
    "\n",
    "Can you build a machine learning model to accurately predict whether or not the patients in the dataset have diabetes or not?\n",
    "\n",
    "First, let's load the data. The file named `diabetes_train.csv` is located in the same folder."
   ]
  },
  {
   "cell_type": "code",
   "execution_count": 1,
   "id": "3cde9cb0",
   "metadata": {},
   "outputs": [
    {
     "data": {
      "text/html": [
       "<div>\n",
       "<style scoped>\n",
       "    .dataframe tbody tr th:only-of-type {\n",
       "        vertical-align: middle;\n",
       "    }\n",
       "\n",
       "    .dataframe tbody tr th {\n",
       "        vertical-align: top;\n",
       "    }\n",
       "\n",
       "    .dataframe thead th {\n",
       "        text-align: right;\n",
       "    }\n",
       "</style>\n",
       "<table border=\"1\" class=\"dataframe\">\n",
       "  <thead>\n",
       "    <tr style=\"text-align: right;\">\n",
       "      <th></th>\n",
       "      <th>Pregnancies</th>\n",
       "      <th>Glucose</th>\n",
       "      <th>BloodPressure</th>\n",
       "      <th>SkinThickness</th>\n",
       "      <th>Insulin</th>\n",
       "      <th>BMI</th>\n",
       "      <th>DiabetesPedigreeFunction</th>\n",
       "      <th>Age</th>\n",
       "      <th>Outcome</th>\n",
       "    </tr>\n",
       "  </thead>\n",
       "  <tbody>\n",
       "    <tr>\n",
       "      <th>0</th>\n",
       "      <td>6</td>\n",
       "      <td>148</td>\n",
       "      <td>72</td>\n",
       "      <td>35</td>\n",
       "      <td>0</td>\n",
       "      <td>33.6</td>\n",
       "      <td>0.627</td>\n",
       "      <td>50</td>\n",
       "      <td>1</td>\n",
       "    </tr>\n",
       "    <tr>\n",
       "      <th>1</th>\n",
       "      <td>1</td>\n",
       "      <td>85</td>\n",
       "      <td>66</td>\n",
       "      <td>29</td>\n",
       "      <td>0</td>\n",
       "      <td>26.6</td>\n",
       "      <td>0.351</td>\n",
       "      <td>31</td>\n",
       "      <td>0</td>\n",
       "    </tr>\n",
       "    <tr>\n",
       "      <th>2</th>\n",
       "      <td>8</td>\n",
       "      <td>183</td>\n",
       "      <td>64</td>\n",
       "      <td>0</td>\n",
       "      <td>0</td>\n",
       "      <td>23.3</td>\n",
       "      <td>0.672</td>\n",
       "      <td>32</td>\n",
       "      <td>1</td>\n",
       "    </tr>\n",
       "    <tr>\n",
       "      <th>3</th>\n",
       "      <td>1</td>\n",
       "      <td>89</td>\n",
       "      <td>66</td>\n",
       "      <td>23</td>\n",
       "      <td>94</td>\n",
       "      <td>28.1</td>\n",
       "      <td>0.167</td>\n",
       "      <td>21</td>\n",
       "      <td>0</td>\n",
       "    </tr>\n",
       "    <tr>\n",
       "      <th>4</th>\n",
       "      <td>0</td>\n",
       "      <td>137</td>\n",
       "      <td>40</td>\n",
       "      <td>35</td>\n",
       "      <td>168</td>\n",
       "      <td>43.1</td>\n",
       "      <td>2.288</td>\n",
       "      <td>33</td>\n",
       "      <td>1</td>\n",
       "    </tr>\n",
       "    <tr>\n",
       "      <th>...</th>\n",
       "      <td>...</td>\n",
       "      <td>...</td>\n",
       "      <td>...</td>\n",
       "      <td>...</td>\n",
       "      <td>...</td>\n",
       "      <td>...</td>\n",
       "      <td>...</td>\n",
       "      <td>...</td>\n",
       "      <td>...</td>\n",
       "    </tr>\n",
       "    <tr>\n",
       "      <th>693</th>\n",
       "      <td>7</td>\n",
       "      <td>129</td>\n",
       "      <td>68</td>\n",
       "      <td>49</td>\n",
       "      <td>125</td>\n",
       "      <td>38.5</td>\n",
       "      <td>0.439</td>\n",
       "      <td>43</td>\n",
       "      <td>1</td>\n",
       "    </tr>\n",
       "    <tr>\n",
       "      <th>694</th>\n",
       "      <td>2</td>\n",
       "      <td>90</td>\n",
       "      <td>60</td>\n",
       "      <td>0</td>\n",
       "      <td>0</td>\n",
       "      <td>23.5</td>\n",
       "      <td>0.191</td>\n",
       "      <td>25</td>\n",
       "      <td>0</td>\n",
       "    </tr>\n",
       "    <tr>\n",
       "      <th>695</th>\n",
       "      <td>7</td>\n",
       "      <td>142</td>\n",
       "      <td>90</td>\n",
       "      <td>24</td>\n",
       "      <td>480</td>\n",
       "      <td>30.4</td>\n",
       "      <td>0.128</td>\n",
       "      <td>43</td>\n",
       "      <td>1</td>\n",
       "    </tr>\n",
       "    <tr>\n",
       "      <th>696</th>\n",
       "      <td>3</td>\n",
       "      <td>169</td>\n",
       "      <td>74</td>\n",
       "      <td>19</td>\n",
       "      <td>125</td>\n",
       "      <td>29.9</td>\n",
       "      <td>0.268</td>\n",
       "      <td>31</td>\n",
       "      <td>1</td>\n",
       "    </tr>\n",
       "    <tr>\n",
       "      <th>697</th>\n",
       "      <td>0</td>\n",
       "      <td>99</td>\n",
       "      <td>0</td>\n",
       "      <td>0</td>\n",
       "      <td>0</td>\n",
       "      <td>25.0</td>\n",
       "      <td>0.253</td>\n",
       "      <td>22</td>\n",
       "      <td>0</td>\n",
       "    </tr>\n",
       "  </tbody>\n",
       "</table>\n",
       "<p>698 rows × 9 columns</p>\n",
       "</div>"
      ],
      "text/plain": [
       "     Pregnancies  Glucose  BloodPressure  SkinThickness  Insulin   BMI  \\\n",
       "0              6      148             72             35        0  33.6   \n",
       "1              1       85             66             29        0  26.6   \n",
       "2              8      183             64              0        0  23.3   \n",
       "3              1       89             66             23       94  28.1   \n",
       "4              0      137             40             35      168  43.1   \n",
       "..           ...      ...            ...            ...      ...   ...   \n",
       "693            7      129             68             49      125  38.5   \n",
       "694            2       90             60              0        0  23.5   \n",
       "695            7      142             90             24      480  30.4   \n",
       "696            3      169             74             19      125  29.9   \n",
       "697            0       99              0              0        0  25.0   \n",
       "\n",
       "     DiabetesPedigreeFunction  Age  Outcome  \n",
       "0                       0.627   50        1  \n",
       "1                       0.351   31        0  \n",
       "2                       0.672   32        1  \n",
       "3                       0.167   21        0  \n",
       "4                       2.288   33        1  \n",
       "..                        ...  ...      ...  \n",
       "693                     0.439   43        1  \n",
       "694                     0.191   25        0  \n",
       "695                     0.128   43        1  \n",
       "696                     0.268   31        1  \n",
       "697                     0.253   22        0  \n",
       "\n",
       "[698 rows x 9 columns]"
      ]
     },
     "execution_count": 1,
     "metadata": {},
     "output_type": "execute_result"
    }
   ],
   "source": [
    "import pandas as pd\n",
    "\n",
    "df = pd.read_csv('diabetes_train.csv')\n",
    "df"
   ]
  },
  {
   "cell_type": "markdown",
   "id": "a8c3f74d",
   "metadata": {},
   "source": [
    "Define `X` and `y`. Here, `X` and `y` refers to the input and output of our classification models."
   ]
  },
  {
   "cell_type": "code",
   "execution_count": 2,
   "id": "cbd91e3d",
   "metadata": {},
   "outputs": [],
   "source": [
    "X = df.iloc[:, :-1] # or, df[['Pregnancies', 'Glucose', 'BloodPressure', 'SkinThickness', 'Insulin', 'BMI', 'DiabetesPedigreeFunction', 'Age']]\n",
    "y = df.iloc[:, -1]  # or, df['Outcome']"
   ]
  },
  {
   "cell_type": "markdown",
   "id": "c6d50d59",
   "metadata": {},
   "source": [
    "## Problem 1. Check the ratio of positive samples\n",
    "\n",
    "Check the ratio of positive samples? (here, positive means the target variable `Outcome==1`)\n",
    "\n",
    "- Hint: Check the number of all samples ans positive samples."
   ]
  },
  {
   "cell_type": "code",
   "execution_count": null,
   "id": "48bae64f",
   "metadata": {},
   "outputs": [],
   "source": [
    "# your code here\n",
    "# ..."
   ]
  },
  {
   "cell_type": "markdown",
   "id": "92f27d4b",
   "metadata": {},
   "source": [
    "## Problem 2. Train Classifiers"
   ]
  },
  {
   "cell_type": "markdown",
   "id": "4dc1e731",
   "metadata": {},
   "source": [
    "First, split the data into training and validation data. This is necessary to avoid overfitting. When spliting data, apply `stratify` option (why?)."
   ]
  },
  {
   "cell_type": "code",
   "execution_count": null,
   "id": "fdde3072",
   "metadata": {},
   "outputs": [],
   "source": [
    "from sklearn.model_selection import train_test_split\n",
    "\n",
    "X_trn, X_val, y_trn, y_val = train_test_split(X, y, test_size=0.3, stratify=y, random_state=0)"
   ]
  },
  {
   "cell_type": "markdown",
   "id": "c56595a6",
   "metadata": {},
   "source": [
    "Apply feature normalization so that all features are considered equal."
   ]
  },
  {
   "cell_type": "code",
   "execution_count": null,
   "id": "f63b9e23",
   "metadata": {},
   "outputs": [],
   "source": [
    "from sklearn.preprocessing import StandardScaler\n",
    "\n",
    "scaler = StandardScaler()\n",
    "scaler.fit(X_trn)\n",
    "X_trn_norm = scaler.transform(X_trn)\n",
    "X_val_norm = scaler.transform(X_val)"
   ]
  },
  {
   "cell_type": "markdown",
   "id": "d99a9d36",
   "metadata": {},
   "source": [
    "Train decision tree, random forest, and logistic regression using the normalized training data. And check the training and validation performances of the model (e.g., accuracy, fscore, ...)."
   ]
  },
  {
   "cell_type": "code",
   "execution_count": null,
   "id": "499d4855",
   "metadata": {},
   "outputs": [],
   "source": [
    "# your code here\n",
    "# ..."
   ]
  },
  {
   "cell_type": "markdown",
   "id": "64f295b6",
   "metadata": {},
   "source": [
    "## Problem 3. Feature importance\n",
    "\n",
    "Remember that logistic regression, decision tree, and random forest provide information about which feature is important to predict the outcome.\n",
    "\n",
    "In our problem of diabetes diagnosis, which feature is important? explore the model and describe your opinion."
   ]
  },
  {
   "cell_type": "code",
   "execution_count": null,
   "id": "c7738e23",
   "metadata": {},
   "outputs": [],
   "source": [
    "# your code here\n",
    "# ..."
   ]
  },
  {
   "cell_type": "markdown",
   "id": "d9f36a9a",
   "metadata": {},
   "source": [
    "## Problem 4. Check model performance on new data (test performance)\n",
    "\n",
    "Today, 70 new patients arrived in our hospital, so you want to check your model performance on new samples.\n",
    "The labels of new instances were obtained by diagnosis of experienced doctors.\n",
    "\n",
    "The test data named `diabetes_test.csv` is located in the same forder."
   ]
  },
  {
   "cell_type": "code",
   "execution_count": null,
   "id": "581c8e18",
   "metadata": {},
   "outputs": [],
   "source": [
    "df_test = pd.read_csv('diabetes_test.csv')\n",
    "df_test"
   ]
  },
  {
   "cell_type": "markdown",
   "id": "ee3e242c",
   "metadata": {},
   "source": [
    "Define `X` and `y` of test data."
   ]
  },
  {
   "cell_type": "code",
   "execution_count": null,
   "id": "9097ae8d",
   "metadata": {},
   "outputs": [],
   "source": [
    "X_test = df_test.iloc[:, :-1]\n",
    "y_test = df_test.iloc[:, -1]"
   ]
  },
  {
   "cell_type": "markdown",
   "id": "8f7fdd1a",
   "metadata": {},
   "source": [
    "Test your classifiers on the test data and draw a plot containing ROC curves and AUC scores of the models obtained in the Problem 2.\n",
    "* (warning) Don't forget normalization using `scaler` before inputting your data into the model. Or, your results may be not good...\n",
    "* Use `plt.savefig('roc.png')` to save the plot to the file named `roc.png`."
   ]
  },
  {
   "cell_type": "code",
   "execution_count": null,
   "id": "03711757",
   "metadata": {},
   "outputs": [],
   "source": [
    "# your code here\n",
    "# ..."
   ]
  }
 ],
 "metadata": {
  "kernelspec": {
   "display_name": "py39_ipykernel",
   "language": "python",
   "name": "py39"
  },
  "language_info": {
   "codemirror_mode": {
    "name": "ipython",
    "version": 3
   },
   "file_extension": ".py",
   "mimetype": "text/x-python",
   "name": "python",
   "nbconvert_exporter": "python",
   "pygments_lexer": "ipython3",
   "version": "3.9.13"
  }
 },
 "nbformat": 4,
 "nbformat_minor": 5
}
